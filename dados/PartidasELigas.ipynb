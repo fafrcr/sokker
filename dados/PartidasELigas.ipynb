{
 "cells": [
  {
   "cell_type": "markdown",
   "metadata": {},
   "source": [
    "### *Podemos rodar às segundas-feiras já que as partidas da liga são jogadas aos domingos*"
   ]
  },
  {
   "cell_type": "code",
   "execution_count": 1,
   "metadata": {},
   "outputs": [],
   "source": [
    "import pandas as pd\n",
    "from functions import clube_id_e_sessao, pega_dados, conecta_ao_db"
   ]
  },
  {
   "cell_type": "code",
   "execution_count": 2,
   "metadata": {},
   "outputs": [
    {
     "name": "stdout",
     "output_type": "stream",
     "text": [
      "Clube ID: 79085\n"
     ]
    }
   ],
   "source": [
    "sessao, club_id= clube_id_e_sessao()"
   ]
  },
  {
   "cell_type": "markdown",
   "metadata": {},
   "source": [
    "### Informações gerais dos jogos"
   ]
  },
  {
   "cell_type": "code",
   "execution_count": 3,
   "metadata": {},
   "outputs": [],
   "source": [
    "# Conecta ao banco de dados\n",
    "db= conecta_ao_db('dados_sokker.db')\n",
    "curs= db.cursor()\n",
    "\n",
    "#Pega informações únicas das partidas já adicionadas para que não sejam inseridos valores duplicados na base\n",
    "matches = pd.read_sql_query(\"SELECT * FROM matches\", db)\n",
    "\n",
    "ids= matches['matchID'].unique()\n",
    "data_esperada= matches['dateExpected'].unique()\n",
    "data_iniciada= matches['dateStarted'].unique()"
   ]
  },
  {
   "cell_type": "code",
   "execution_count": 4,
   "metadata": {
    "scrolled": true
   },
   "outputs": [
    {
     "data": {
      "text/html": [
       "<div>\n",
       "<style scoped>\n",
       "    .dataframe tbody tr th:only-of-type {\n",
       "        vertical-align: middle;\n",
       "    }\n",
       "\n",
       "    .dataframe tbody tr th {\n",
       "        vertical-align: top;\n",
       "    }\n",
       "\n",
       "    .dataframe thead th {\n",
       "        text-align: right;\n",
       "    }\n",
       "</style>\n",
       "<table border=\"1\" class=\"dataframe\">\n",
       "  <thead>\n",
       "    <tr style=\"text-align: right;\">\n",
       "      <th></th>\n",
       "      <th>matchID</th>\n",
       "      <th>homeTeamID</th>\n",
       "      <th>awayTeamID</th>\n",
       "      <th>leagueID</th>\n",
       "      <th>round</th>\n",
       "      <th>season</th>\n",
       "      <th>week</th>\n",
       "      <th>day</th>\n",
       "      <th>dateExpected</th>\n",
       "      <th>dateStarted</th>\n",
       "      <th>homeTeamScore</th>\n",
       "      <th>awayTeamScore</th>\n",
       "      <th>supporters</th>\n",
       "      <th>weather</th>\n",
       "      <th>isFinished</th>\n",
       "    </tr>\n",
       "  </thead>\n",
       "  <tbody>\n",
       "    <tr>\n",
       "      <th>15</th>\n",
       "      <td>41760539</td>\n",
       "      <td>23755</td>\n",
       "      <td>79085</td>\n",
       "      <td>1349</td>\n",
       "      <td>13</td>\n",
       "      <td>68</td>\n",
       "      <td>1113</td>\n",
       "      <td>1</td>\n",
       "      <td>2024-11-03 21:59</td>\n",
       "      <td>2024-11-03 21:59</td>\n",
       "      <td>0</td>\n",
       "      <td>1</td>\n",
       "      <td>25293</td>\n",
       "      <td>2</td>\n",
       "      <td>1</td>\n",
       "    </tr>\n",
       "    <tr>\n",
       "      <th>16</th>\n",
       "      <td>41760527</td>\n",
       "      <td>79085</td>\n",
       "      <td>78671</td>\n",
       "      <td>1349</td>\n",
       "      <td>14</td>\n",
       "      <td>68</td>\n",
       "      <td>1113</td>\n",
       "      <td>4</td>\n",
       "      <td>2024-11-06 21:59</td>\n",
       "      <td>2024-11-06 21:59</td>\n",
       "      <td>0</td>\n",
       "      <td>1</td>\n",
       "      <td>11099</td>\n",
       "      <td>4</td>\n",
       "      <td>1</td>\n",
       "    </tr>\n",
       "  </tbody>\n",
       "</table>\n",
       "</div>"
      ],
      "text/plain": [
       "     matchID homeTeamID awayTeamID leagueID round season  week day  \\\n",
       "15  41760539      23755      79085     1349    13     68  1113   1   \n",
       "16  41760527      79085      78671     1349    14     68  1113   4   \n",
       "\n",
       "        dateExpected       dateStarted homeTeamScore awayTeamScore supporters  \\\n",
       "15  2024-11-03 21:59  2024-11-03 21:59             0             1      25293   \n",
       "16  2024-11-06 21:59  2024-11-06 21:59             0             1      11099   \n",
       "\n",
       "   weather isFinished  \n",
       "15       2          1  \n",
       "16       4          1  "
      ]
     },
     "execution_count": 4,
     "metadata": {},
     "output_type": "execute_result"
    }
   ],
   "source": [
    "# Id do clube a serem pegas as informações\n",
    "id_clube= club_id\n",
    "\n",
    "# Pegando informações das partidas retirando aquelas que já foram pegas\n",
    "url= f'https://sokker.org/xml/matches-team-{club_id}.xml'\n",
    "df_matches= pega_dados(url, sessao, search= 'match')\n",
    "\n",
    "#Retirando valores nulos (partidas ainda não jogadas) e duplicados (partidas já adicionadas na base)\n",
    "df_matches.dropna(inplace= True)\n",
    "\n",
    "query= 'matchID not in @ids and dateExpected not in @data_esperada and dateStarted not in @data_iniciada'\n",
    "\n",
    "# Retirando colunas que não salvaremos as informações\n",
    "df_matches.drop(columns= ['homeTeamName', 'awayTeamName'], \n",
    "                inplace= True)\n",
    "\n",
    "#df_matches= pd.concat([matches, df_matches])\n",
    "\n",
    "df_matches= df_matches.query(query)\n",
    "df_matches"
   ]
  },
  {
   "cell_type": "code",
   "execution_count": 5,
   "metadata": {},
   "outputs": [],
   "source": [
    "if len(df_matches) > 0:\n",
    "    \n",
    "    # Adiciona dados à tabela\n",
    "    df_matches.to_sql('matches', con=db, if_exists='append', index= False)"
   ]
  },
  {
   "cell_type": "code",
   "execution_count": 6,
   "metadata": {},
   "outputs": [
    {
     "data": {
      "text/plain": [
       "2"
      ]
     },
     "execution_count": 6,
     "metadata": {},
     "output_type": "execute_result"
    }
   ],
   "source": [
    "#df_matches = pd.read_sql_query(\"SELECT * FROM matches\", db)\n",
    "len(df_matches)"
   ]
  },
  {
   "cell_type": "markdown",
   "metadata": {},
   "source": [
    "### Estatísticas dos jogos"
   ]
  },
  {
   "cell_type": "code",
   "execution_count": 7,
   "metadata": {},
   "outputs": [],
   "source": [
    "#Pega informações únicas das estatísticas já adicionadas para que não sejam inseridos valores duplicados na base\n",
    "stats = pd.read_sql_query(\"SELECT * FROM matchStats\", db)\n",
    "\n",
    "ids= stats['matchID'].unique()\n",
    "team= stats['teamID'].unique()\n",
    "terco_defensivo= stats['timeOnHalf'].unique()\n",
    "posse_de_bola= stats['timePossession'].unique()"
   ]
  },
  {
   "cell_type": "code",
   "execution_count": 8,
   "metadata": {},
   "outputs": [
    {
     "data": {
      "text/html": [
       "<div>\n",
       "<style scoped>\n",
       "    .dataframe tbody tr th:only-of-type {\n",
       "        vertical-align: middle;\n",
       "    }\n",
       "\n",
       "    .dataframe tbody tr th {\n",
       "        vertical-align: top;\n",
       "    }\n",
       "\n",
       "    .dataframe thead th {\n",
       "        text-align: right;\n",
       "    }\n",
       "</style>\n",
       "<table border=\"1\" class=\"dataframe\">\n",
       "  <thead>\n",
       "    <tr style=\"text-align: right;\">\n",
       "      <th></th>\n",
       "      <th>teamID</th>\n",
       "      <th>timeOnHalf</th>\n",
       "      <th>timePossession</th>\n",
       "      <th>offsides</th>\n",
       "      <th>shoots</th>\n",
       "      <th>fouls</th>\n",
       "      <th>yellowCards</th>\n",
       "      <th>redCards</th>\n",
       "      <th>tacticName</th>\n",
       "      <th>ratingScoring</th>\n",
       "      <th>ratingPassing</th>\n",
       "      <th>ratingDefending</th>\n",
       "      <th>matchID</th>\n",
       "    </tr>\n",
       "  </thead>\n",
       "  <tbody>\n",
       "    <tr>\n",
       "      <th>0</th>\n",
       "      <td>23755</td>\n",
       "      <td>29526</td>\n",
       "      <td>37205</td>\n",
       "      <td>3</td>\n",
       "      <td>10</td>\n",
       "      <td>2</td>\n",
       "      <td>1</td>\n",
       "      <td>0</td>\n",
       "      <td>efc</td>\n",
       "      <td>10</td>\n",
       "      <td>9</td>\n",
       "      <td>10</td>\n",
       "      <td>41760539</td>\n",
       "    </tr>\n",
       "    <tr>\n",
       "      <th>1</th>\n",
       "      <td>79085</td>\n",
       "      <td>40426</td>\n",
       "      <td>32747</td>\n",
       "      <td>0</td>\n",
       "      <td>1</td>\n",
       "      <td>0</td>\n",
       "      <td>0</td>\n",
       "      <td>0</td>\n",
       "      <td>5-4-1a</td>\n",
       "      <td>8</td>\n",
       "      <td>10</td>\n",
       "      <td>9</td>\n",
       "      <td>41760539</td>\n",
       "    </tr>\n",
       "    <tr>\n",
       "      <th>0</th>\n",
       "      <td>79085</td>\n",
       "      <td>31248</td>\n",
       "      <td>35178</td>\n",
       "      <td>0</td>\n",
       "      <td>3</td>\n",
       "      <td>1</td>\n",
       "      <td>0</td>\n",
       "      <td>0</td>\n",
       "      <td>4-2-3-1a</td>\n",
       "      <td>8</td>\n",
       "      <td>10</td>\n",
       "      <td>10</td>\n",
       "      <td>41760527</td>\n",
       "    </tr>\n",
       "    <tr>\n",
       "      <th>1</th>\n",
       "      <td>78671</td>\n",
       "      <td>38783</td>\n",
       "      <td>34853</td>\n",
       "      <td>0</td>\n",
       "      <td>2</td>\n",
       "      <td>3</td>\n",
       "      <td>3</td>\n",
       "      <td>0</td>\n",
       "      <td>SEM NOME</td>\n",
       "      <td>7</td>\n",
       "      <td>8</td>\n",
       "      <td>12</td>\n",
       "      <td>41760527</td>\n",
       "    </tr>\n",
       "  </tbody>\n",
       "</table>\n",
       "</div>"
      ],
      "text/plain": [
       "  teamID timeOnHalf timePossession offsides shoots fouls yellowCards redCards  \\\n",
       "0  23755      29526          37205        3     10     2           1        0   \n",
       "1  79085      40426          32747        0      1     0           0        0   \n",
       "0  79085      31248          35178        0      3     1           0        0   \n",
       "1  78671      38783          34853        0      2     3           3        0   \n",
       "\n",
       "  tacticName ratingScoring ratingPassing ratingDefending   matchID  \n",
       "0        efc            10             9              10  41760539  \n",
       "1     5-4-1a             8            10               9  41760539  \n",
       "0   4-2-3-1a             8            10              10  41760527  \n",
       "1   SEM NOME             7             8              12  41760527  "
      ]
     },
     "execution_count": 8,
     "metadata": {},
     "output_type": "execute_result"
    }
   ],
   "source": [
    "#lista que guardará as estatísticas de cada partida\n",
    "list_stats= list()\n",
    "\n",
    "# Pegando estatísticas\n",
    "\n",
    "for ID in df_matches['matchID'].unique():\n",
    "    \n",
    "    url= f'https://sokker.org/xml/match-{ID}.xml'\n",
    "    df= pega_dados(url, sessao, search= 'teamStats')\n",
    "    df['matchID']= ID\n",
    "    list_stats.append(df)\n",
    "    \n",
    "\n",
    "\n",
    "df_stats= pd.concat([stats for stats in list_stats])\n",
    "\n",
    "# Retirando valores nulos (partidas ainda não jogadas) e duplicados (partidas já adicionadas na base)\n",
    "\n",
    "df_stats.dropna(inplace= True)\n",
    "\n",
    "query= 'matchID not in @ids and teamID not in @team and timeOnHalf not in @terco_defensivo and timePossession not in @posse_de_bola'\n",
    "\n",
    "df_stats= df_stats.query(query)\n",
    "\n",
    "df_stats"
   ]
  },
  {
   "cell_type": "code",
   "execution_count": 9,
   "metadata": {},
   "outputs": [],
   "source": [
    "# Adicionando informações se houver alguma nova\n",
    "if len(df_stats) > 0:\n",
    "    \n",
    "    # Adiciona dados à tabela\n",
    "    df_stats.to_sql('matchStats', con=db, if_exists='append', index= False)"
   ]
  },
  {
   "cell_type": "code",
   "execution_count": 10,
   "metadata": {},
   "outputs": [
    {
     "data": {
      "text/plain": [
       "1390"
      ]
     },
     "execution_count": 10,
     "metadata": {},
     "output_type": "execute_result"
    }
   ],
   "source": [
    "# Conferindo\n",
    "stats = pd.read_sql_query(\"SELECT * FROM matchStats\", db)\n",
    "len(stats)"
   ]
  },
  {
   "cell_type": "markdown",
   "metadata": {},
   "source": [
    "### Estatísticas da Liga"
   ]
  },
  {
   "cell_type": "code",
   "execution_count": 11,
   "metadata": {},
   "outputs": [],
   "source": [
    "#Pega informações ligas já adicionadas para que não sejam inseridos valores duplicados na base\n",
    "league_stats = pd.read_sql_query(\"SELECT * FROM leagueStats\", db)\n",
    "\n",
    "ids= league_stats['leagueID'].unique()\n",
    "team= league_stats['teamID'].unique()\n",
    "rodada=  league_stats['round'].unique()"
   ]
  },
  {
   "cell_type": "code",
   "execution_count": 12,
   "metadata": {},
   "outputs": [],
   "source": [
    "#Pegar o id da liga desejada entrando na liga na página do sokker\n",
    "league_id= 1349\n",
    "\n",
    "url= f'https://sokker.org/xml/league-{league_id}.xml'\n",
    "df_league_stats= pega_dados(url, sessao, search= 'teams', tree_top= True)"
   ]
  },
  {
   "cell_type": "code",
   "execution_count": 13,
   "metadata": {},
   "outputs": [
    {
     "data": {
      "text/html": [
       "<div>\n",
       "<style scoped>\n",
       "    .dataframe tbody tr th:only-of-type {\n",
       "        vertical-align: middle;\n",
       "    }\n",
       "\n",
       "    .dataframe tbody tr th {\n",
       "        vertical-align: top;\n",
       "    }\n",
       "\n",
       "    .dataframe thead th {\n",
       "        text-align: right;\n",
       "    }\n",
       "</style>\n",
       "<table border=\"1\" class=\"dataframe\">\n",
       "  <thead>\n",
       "    <tr style=\"text-align: right;\">\n",
       "      <th></th>\n",
       "      <th>teamID</th>\n",
       "      <th>round</th>\n",
       "      <th>points</th>\n",
       "      <th>wins</th>\n",
       "      <th>draws</th>\n",
       "      <th>losses</th>\n",
       "      <th>goalsScored</th>\n",
       "      <th>goalsLost</th>\n",
       "      <th>rankTotal</th>\n",
       "      <th>leagueID</th>\n",
       "    </tr>\n",
       "  </thead>\n",
       "  <tbody>\n",
       "    <tr>\n",
       "      <th>0</th>\n",
       "      <td>122428</td>\n",
       "      <td>14</td>\n",
       "      <td>37</td>\n",
       "      <td>12</td>\n",
       "      <td>1</td>\n",
       "      <td>1</td>\n",
       "      <td>47</td>\n",
       "      <td>14</td>\n",
       "      <td>37533047012011</td>\n",
       "      <td>1349</td>\n",
       "    </tr>\n",
       "    <tr>\n",
       "      <th>1</th>\n",
       "      <td>47841</td>\n",
       "      <td>14</td>\n",
       "      <td>34</td>\n",
       "      <td>11</td>\n",
       "      <td>1</td>\n",
       "      <td>2</td>\n",
       "      <td>46</td>\n",
       "      <td>15</td>\n",
       "      <td>34531046011010</td>\n",
       "      <td>1349</td>\n",
       "    </tr>\n",
       "    <tr>\n",
       "      <th>2</th>\n",
       "      <td>23755</td>\n",
       "      <td>14</td>\n",
       "      <td>32</td>\n",
       "      <td>10</td>\n",
       "      <td>2</td>\n",
       "      <td>2</td>\n",
       "      <td>60</td>\n",
       "      <td>13</td>\n",
       "      <td>32547060010005</td>\n",
       "      <td>1349</td>\n",
       "    </tr>\n",
       "    <tr>\n",
       "      <th>3</th>\n",
       "      <td>6295</td>\n",
       "      <td>14</td>\n",
       "      <td>27</td>\n",
       "      <td>8</td>\n",
       "      <td>3</td>\n",
       "      <td>3</td>\n",
       "      <td>46</td>\n",
       "      <td>13</td>\n",
       "      <td>27533046008009</td>\n",
       "      <td>1349</td>\n",
       "    </tr>\n",
       "    <tr>\n",
       "      <th>4</th>\n",
       "      <td>124139</td>\n",
       "      <td>14</td>\n",
       "      <td>25</td>\n",
       "      <td>8</td>\n",
       "      <td>1</td>\n",
       "      <td>5</td>\n",
       "      <td>33</td>\n",
       "      <td>17</td>\n",
       "      <td>25516033008006</td>\n",
       "      <td>1349</td>\n",
       "    </tr>\n",
       "    <tr>\n",
       "      <th>5</th>\n",
       "      <td>122169</td>\n",
       "      <td>14</td>\n",
       "      <td>20</td>\n",
       "      <td>6</td>\n",
       "      <td>2</td>\n",
       "      <td>6</td>\n",
       "      <td>35</td>\n",
       "      <td>27</td>\n",
       "      <td>20508035006007</td>\n",
       "      <td>1349</td>\n",
       "    </tr>\n",
       "    <tr>\n",
       "      <th>6</th>\n",
       "      <td>78671</td>\n",
       "      <td>14</td>\n",
       "      <td>20</td>\n",
       "      <td>6</td>\n",
       "      <td>2</td>\n",
       "      <td>6</td>\n",
       "      <td>19</td>\n",
       "      <td>18</td>\n",
       "      <td>20501019006008</td>\n",
       "      <td>1349</td>\n",
       "    </tr>\n",
       "    <tr>\n",
       "      <th>7</th>\n",
       "      <td>79866</td>\n",
       "      <td>14</td>\n",
       "      <td>18</td>\n",
       "      <td>4</td>\n",
       "      <td>6</td>\n",
       "      <td>4</td>\n",
       "      <td>32</td>\n",
       "      <td>18</td>\n",
       "      <td>18514032004012</td>\n",
       "      <td>1349</td>\n",
       "    </tr>\n",
       "    <tr>\n",
       "      <th>8</th>\n",
       "      <td>79085</td>\n",
       "      <td>14</td>\n",
       "      <td>17</td>\n",
       "      <td>5</td>\n",
       "      <td>2</td>\n",
       "      <td>7</td>\n",
       "      <td>21</td>\n",
       "      <td>21</td>\n",
       "      <td>17500021005003</td>\n",
       "      <td>1349</td>\n",
       "    </tr>\n",
       "    <tr>\n",
       "      <th>9</th>\n",
       "      <td>79536</td>\n",
       "      <td>14</td>\n",
       "      <td>6</td>\n",
       "      <td>1</td>\n",
       "      <td>3</td>\n",
       "      <td>10</td>\n",
       "      <td>8</td>\n",
       "      <td>36</td>\n",
       "      <td>6472008001004</td>\n",
       "      <td>1349</td>\n",
       "    </tr>\n",
       "    <tr>\n",
       "      <th>10</th>\n",
       "      <td>79656</td>\n",
       "      <td>14</td>\n",
       "      <td>4</td>\n",
       "      <td>1</td>\n",
       "      <td>1</td>\n",
       "      <td>12</td>\n",
       "      <td>5</td>\n",
       "      <td>64</td>\n",
       "      <td>4441005001002</td>\n",
       "      <td>1349</td>\n",
       "    </tr>\n",
       "    <tr>\n",
       "      <th>11</th>\n",
       "      <td>6250</td>\n",
       "      <td>14</td>\n",
       "      <td>0</td>\n",
       "      <td>0</td>\n",
       "      <td>0</td>\n",
       "      <td>14</td>\n",
       "      <td>7</td>\n",
       "      <td>103</td>\n",
       "      <td>404007000001</td>\n",
       "      <td>1349</td>\n",
       "    </tr>\n",
       "  </tbody>\n",
       "</table>\n",
       "</div>"
      ],
      "text/plain": [
       "    teamID round points wins draws losses goalsScored goalsLost  \\\n",
       "0   122428    14     37   12     1      1          47        14   \n",
       "1    47841    14     34   11     1      2          46        15   \n",
       "2    23755    14     32   10     2      2          60        13   \n",
       "3     6295    14     27    8     3      3          46        13   \n",
       "4   124139    14     25    8     1      5          33        17   \n",
       "5   122169    14     20    6     2      6          35        27   \n",
       "6    78671    14     20    6     2      6          19        18   \n",
       "7    79866    14     18    4     6      4          32        18   \n",
       "8    79085    14     17    5     2      7          21        21   \n",
       "9    79536    14      6    1     3     10           8        36   \n",
       "10   79656    14      4    1     1     12           5        64   \n",
       "11    6250    14      0    0     0     14           7       103   \n",
       "\n",
       "         rankTotal  leagueID  \n",
       "0   37533047012011      1349  \n",
       "1   34531046011010      1349  \n",
       "2   32547060010005      1349  \n",
       "3   27533046008009      1349  \n",
       "4   25516033008006      1349  \n",
       "5   20508035006007      1349  \n",
       "6   20501019006008      1349  \n",
       "7   18514032004012      1349  \n",
       "8   17500021005003      1349  \n",
       "9    6472008001004      1349  \n",
       "10   4441005001002      1349  \n",
       "11    404007000001      1349  "
      ]
     },
     "execution_count": 13,
     "metadata": {},
     "output_type": "execute_result"
    }
   ],
   "source": [
    "df_league_stats['leagueID']= league_id\n",
    "df_league_stats"
   ]
  },
  {
   "cell_type": "code",
   "execution_count": 14,
   "metadata": {},
   "outputs": [],
   "source": [
    "# Adicionando informações \n",
    "if len(df_league_stats) > 0:\n",
    "    \n",
    "    # Adiciona dados à tabela\n",
    "    df_league_stats.to_sql('leagueStats', con=db, if_exists='append', index= False)"
   ]
  },
  {
   "cell_type": "markdown",
   "metadata": {},
   "source": [
    "league_stats = pd.read_sql_query(\"SELECT * FROM leagueStats\", db)\n",
    "len(league_stats)"
   ]
  },
  {
   "cell_type": "markdown",
   "metadata": {},
   "source": [
    "### Liga informação geral"
   ]
  },
  {
   "cell_type": "code",
   "execution_count": 15,
   "metadata": {},
   "outputs": [],
   "source": [
    "#Pega informações das ligas já adicionadas para que não sejam inseridos valores duplicados na base\n",
    "leagues = pd.read_sql_query(\"SELECT * FROM league\", db)\n",
    "\n",
    "ids= leagues['leagueID'].unique()\n",
    "league_name= leagues['name'].unique()"
   ]
  },
  {
   "cell_type": "code",
   "execution_count": 16,
   "metadata": {},
   "outputs": [
    {
     "data": {
      "text/html": [
       "<div>\n",
       "<style scoped>\n",
       "    .dataframe tbody tr th:only-of-type {\n",
       "        vertical-align: middle;\n",
       "    }\n",
       "\n",
       "    .dataframe tbody tr th {\n",
       "        vertical-align: top;\n",
       "    }\n",
       "\n",
       "    .dataframe thead th {\n",
       "        text-align: right;\n",
       "    }\n",
       "</style>\n",
       "<table border=\"1\" class=\"dataframe\">\n",
       "  <thead>\n",
       "    <tr style=\"text-align: right;\">\n",
       "      <th></th>\n",
       "      <th>leagueID</th>\n",
       "      <th>name</th>\n",
       "      <th>countryID</th>\n",
       "      <th>division</th>\n",
       "      <th>season</th>\n",
       "      <th>type</th>\n",
       "      <th>isOfficial</th>\n",
       "      <th>isCup</th>\n",
       "    </tr>\n",
       "  </thead>\n",
       "  <tbody>\n",
       "  </tbody>\n",
       "</table>\n",
       "</div>"
      ],
      "text/plain": [
       "Empty DataFrame\n",
       "Columns: [leagueID, name, countryID, division, season, type, isOfficial, isCup]\n",
       "Index: []"
      ]
     },
     "execution_count": 16,
     "metadata": {},
     "output_type": "execute_result"
    }
   ],
   "source": [
    "#Pegando dados da liga\n",
    "df_league= pega_dados(url, sessao, search= 'info')\n",
    "\n",
    "#Retirando coluna que não será utilizada\n",
    "df_league.drop(columns= ['userID', 'round'], inplace= True)\n",
    "\n",
    "#Retirando valores duplicados (se as estatísticas já tiverem sido adicionadas na base)\n",
    "query= 'leagueID not in @ids and name not in @league_name'\n",
    "df_league= df_league.query(query)\n",
    "\n",
    "df_league"
   ]
  },
  {
   "cell_type": "code",
   "execution_count": 17,
   "metadata": {},
   "outputs": [],
   "source": [
    "# Adicionando informações se for uma liga ainda não adicionada\n",
    "if len(df_league) > 0:\n",
    "    \n",
    "    # Adiciona dados à tabela\n",
    "    df_league.to_sql('league', con=db, if_exists='append', index= False)"
   ]
  },
  {
   "cell_type": "code",
   "execution_count": 18,
   "metadata": {},
   "outputs": [
    {
     "data": {
      "text/plain": [
       "4"
      ]
     },
     "execution_count": 18,
     "metadata": {},
     "output_type": "execute_result"
    }
   ],
   "source": [
    "league = pd.read_sql_query(\"SELECT * FROM league\", db)\n",
    "len(league)"
   ]
  },
  {
   "cell_type": "code",
   "execution_count": 19,
   "metadata": {},
   "outputs": [],
   "source": [
    "# Salvando alterações\n",
    "db.commit()\n",
    "\n",
    "# Fechando conexão com a base de dados\n",
    "db.close()"
   ]
  },
  {
   "cell_type": "code",
   "execution_count": null,
   "metadata": {},
   "outputs": [],
   "source": []
  },
  {
   "cell_type": "code",
   "execution_count": null,
   "metadata": {},
   "outputs": [],
   "source": []
  }
 ],
 "metadata": {
  "kernelspec": {
   "display_name": "Python 3",
   "language": "python",
   "name": "python3"
  },
  "language_info": {
   "codemirror_mode": {
    "name": "ipython",
    "version": 3
   },
   "file_extension": ".py",
   "mimetype": "text/x-python",
   "name": "python",
   "nbconvert_exporter": "python",
   "pygments_lexer": "ipython3",
   "version": "3.11.4"
  }
 },
 "nbformat": 4,
 "nbformat_minor": 4
}

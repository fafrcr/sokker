{
 "cells": [
  {
   "cell_type": "markdown",
   "metadata": {},
   "source": [
    "### *Podemos rodar às segundas-feiras já que as partidas da liga são jogadas aos domingos*"
   ]
  },
  {
   "cell_type": "code",
   "execution_count": 20,
   "metadata": {},
   "outputs": [],
   "source": [
    "import pandas as pd\n",
    "from functions import clube_id_e_sessao, pega_dados, conecta_ao_db"
   ]
  },
  {
   "cell_type": "code",
   "execution_count": 21,
   "metadata": {},
   "outputs": [
    {
     "name": "stdout",
     "output_type": "stream",
     "text": [
      "Login: fabin99\n",
      "Password: ········\n",
      "Clube ID: 79085\n"
     ]
    }
   ],
   "source": [
    "sessao, club_id= clube_id_e_sessao()"
   ]
  },
  {
   "cell_type": "markdown",
   "metadata": {},
   "source": [
    "### Informações gerais dos jogos"
   ]
  },
  {
   "cell_type": "code",
   "execution_count": 22,
   "metadata": {},
   "outputs": [],
   "source": [
    "# Conecta ao banco de dados\n",
    "db= conecta_ao_db('dados_sokker.db')\n",
    "curs= db.cursor()\n",
    "\n",
    "#Pega informações únicas das partidas já adicionadas para que não sejam inseridos valores duplicados na base\n",
    "matches = pd.read_sql_query(\"SELECT * FROM matches\", db)\n",
    "\n",
    "ids= matches['matchID'].unique()\n",
    "data_esperada= matches['dateExpected'].unique()\n",
    "data_iniciada= matches['dateStarted'].unique()"
   ]
  },
  {
   "cell_type": "code",
   "execution_count": 23,
   "metadata": {},
   "outputs": [
    {
     "data": {
      "text/html": [
       "<div>\n",
       "<style scoped>\n",
       "    .dataframe tbody tr th:only-of-type {\n",
       "        vertical-align: middle;\n",
       "    }\n",
       "\n",
       "    .dataframe tbody tr th {\n",
       "        vertical-align: top;\n",
       "    }\n",
       "\n",
       "    .dataframe thead th {\n",
       "        text-align: right;\n",
       "    }\n",
       "</style>\n",
       "<table border=\"1\" class=\"dataframe\">\n",
       "  <thead>\n",
       "    <tr style=\"text-align: right;\">\n",
       "      <th></th>\n",
       "      <th>matchID</th>\n",
       "      <th>homeTeamID</th>\n",
       "      <th>awayTeamID</th>\n",
       "      <th>leagueID</th>\n",
       "      <th>round</th>\n",
       "      <th>season</th>\n",
       "      <th>week</th>\n",
       "      <th>day</th>\n",
       "      <th>dateExpected</th>\n",
       "      <th>dateStarted</th>\n",
       "      <th>homeTeamScore</th>\n",
       "      <th>awayTeamScore</th>\n",
       "      <th>supporters</th>\n",
       "      <th>weather</th>\n",
       "      <th>isFinished</th>\n",
       "    </tr>\n",
       "  </thead>\n",
       "  <tbody>\n",
       "  </tbody>\n",
       "</table>\n",
       "</div>"
      ],
      "text/plain": [
       "Empty DataFrame\n",
       "Columns: [matchID, homeTeamID, awayTeamID, leagueID, round, season, week, day, dateExpected, dateStarted, homeTeamScore, awayTeamScore, supporters, weather, isFinished]\n",
       "Index: []"
      ]
     },
     "execution_count": 23,
     "metadata": {},
     "output_type": "execute_result"
    }
   ],
   "source": [
    "# Id do clube a serem pegas as informações\n",
    "id_clube= club_id\n",
    "\n",
    "# Pegando informações das partidas retirando aquelas que já foram pegas\n",
    "url= f'https://sokker.org/xml/matches-team-{club_id}.xml'\n",
    "df_matches= pega_dados(url, sessao, search= 'match')\n",
    "\n",
    "#Retirando valores nulos (partidas ainda não jogadas) e duplicados (partidas já adicionadas na base)\n",
    "df_matches.dropna(inplace= True)\n",
    "\n",
    "query= 'matchID not in @ids and dateExpected not in @data_esperada and dateStarted not in @data_iniciada'\n",
    "\n",
    "# Retirando colunas que não salvaremos as informações\n",
    "df_matches.drop(columns= ['homeTeamName', 'awayTeamName'], \n",
    "                inplace= True)\n",
    "\n",
    "#df_matches= pd.concat([matches, df_matches])\n",
    "\n",
    "df_matches= df_matches.query(query)\n",
    "df_matches"
   ]
  },
  {
   "cell_type": "code",
   "execution_count": 24,
   "metadata": {},
   "outputs": [],
   "source": [
    "if len(df_matches) > 0:\n",
    "    \n",
    "    # Adiciona dados à tabela\n",
    "    df_matches.to_sql('matches', con=db, if_exists='append', index= False)"
   ]
  },
  {
   "cell_type": "code",
   "execution_count": 25,
   "metadata": {},
   "outputs": [
    {
     "data": {
      "text/plain": [
       "201"
      ]
     },
     "execution_count": 25,
     "metadata": {},
     "output_type": "execute_result"
    }
   ],
   "source": [
    "df_matches = pd.read_sql_query(\"SELECT * FROM matches\", db)\n",
    "len(df_matches)"
   ]
  },
  {
   "cell_type": "markdown",
   "metadata": {},
   "source": [
    "### Estatísticas dos jogos"
   ]
  },
  {
   "cell_type": "code",
   "execution_count": 26,
   "metadata": {},
   "outputs": [],
   "source": [
    "#Pega informações únicas das estatísticas já adicionadas para que não sejam inseridos valores duplicados na base\n",
    "stats = pd.read_sql_query(\"SELECT * FROM matchStats\", db)\n",
    "\n",
    "ids= stats['matchID'].unique()\n",
    "team= stats['teamID'].unique()\n",
    "terco_defensivo= stats['timeOnHalf'].unique()\n",
    "posse_de_bola= stats['timePossession'].unique()"
   ]
  },
  {
   "cell_type": "code",
   "execution_count": 27,
   "metadata": {},
   "outputs": [
    {
     "data": {
      "text/html": [
       "<div>\n",
       "<style scoped>\n",
       "    .dataframe tbody tr th:only-of-type {\n",
       "        vertical-align: middle;\n",
       "    }\n",
       "\n",
       "    .dataframe tbody tr th {\n",
       "        vertical-align: top;\n",
       "    }\n",
       "\n",
       "    .dataframe thead th {\n",
       "        text-align: right;\n",
       "    }\n",
       "</style>\n",
       "<table border=\"1\" class=\"dataframe\">\n",
       "  <thead>\n",
       "    <tr style=\"text-align: right;\">\n",
       "      <th></th>\n",
       "      <th>teamID</th>\n",
       "      <th>timeOnHalf</th>\n",
       "      <th>timePossession</th>\n",
       "      <th>offsides</th>\n",
       "      <th>shoots</th>\n",
       "      <th>fouls</th>\n",
       "      <th>yellowCards</th>\n",
       "      <th>redCards</th>\n",
       "      <th>tacticName</th>\n",
       "      <th>ratingScoring</th>\n",
       "      <th>ratingPassing</th>\n",
       "      <th>ratingDefending</th>\n",
       "      <th>matchID</th>\n",
       "    </tr>\n",
       "  </thead>\n",
       "  <tbody>\n",
       "  </tbody>\n",
       "</table>\n",
       "</div>"
      ],
      "text/plain": [
       "Empty DataFrame\n",
       "Columns: [teamID, timeOnHalf, timePossession, offsides, shoots, fouls, yellowCards, redCards, tacticName, ratingScoring, ratingPassing, ratingDefending, matchID]\n",
       "Index: []"
      ]
     },
     "execution_count": 27,
     "metadata": {},
     "output_type": "execute_result"
    }
   ],
   "source": [
    "#lista que guardará as estatísticas de cada partida\n",
    "list_stats= list()\n",
    "\n",
    "# Pegando estatísticas\n",
    "\n",
    "for ID in df_matches['matchID'].unique():\n",
    "    \n",
    "    url= f'https://sokker.org/xml/match-{ID}.xml'\n",
    "    df= pega_dados(url, sessao, search= 'teamStats')\n",
    "    df['matchID']= ID\n",
    "    list_stats.append(df)\n",
    "    \n",
    "\n",
    "\n",
    "df_stats= pd.concat([stats for stats in list_stats])\n",
    "\n",
    "# Retirando valores nulos (partidas ainda não jogadas) e duplicados (partidas já adicionadas na base)\n",
    "\n",
    "df_stats.dropna(inplace= True)\n",
    "\n",
    "query= 'matchID not in @ids and teamID not in @team and timeOnHalf not in @terco_defensivo and timePossession not in @posse_de_bola'\n",
    "\n",
    "df_stats= df_stats.query(query)\n",
    "\n",
    "df_stats"
   ]
  },
  {
   "cell_type": "code",
   "execution_count": 28,
   "metadata": {},
   "outputs": [],
   "source": [
    "# Adicionando informações se houver alguma nova\n",
    "if len(df_stats) > 0:\n",
    "    \n",
    "    # Adiciona dados à tabela\n",
    "    df_stats.to_sql('matchStats', con=db, if_exists='append', index= False)"
   ]
  },
  {
   "cell_type": "code",
   "execution_count": 29,
   "metadata": {},
   "outputs": [
    {
     "data": {
      "text/plain": [
       "402"
      ]
     },
     "execution_count": 29,
     "metadata": {},
     "output_type": "execute_result"
    }
   ],
   "source": [
    "# Conferindo\n",
    "stats = pd.read_sql_query(\"SELECT * FROM matchStats\", db)\n",
    "len(stats)"
   ]
  },
  {
   "cell_type": "markdown",
   "metadata": {},
   "source": [
    "### Estatísticas da Liga"
   ]
  },
  {
   "cell_type": "code",
   "execution_count": 30,
   "metadata": {},
   "outputs": [],
   "source": [
    "#Pega informações ligas já adicionadas para que não sejam inseridos valores duplicados na base\n",
    "league_stats = pd.read_sql_query(\"SELECT * FROM leagueStats\", db)\n",
    "\n",
    "ids= league_stats['leagueID'].unique()\n",
    "team= league_stats['teamID'].unique()\n",
    "rodada=  league_stats['round'].unique()"
   ]
  },
  {
   "cell_type": "code",
   "execution_count": 31,
   "metadata": {},
   "outputs": [],
   "source": [
    "#Pegar o id da liga desejada entrando na liga na página do sokker\n",
    "league_id= 2076\n",
    "\n",
    "url= f'https://sokker.org/xml/league-{league_id}.xml'\n",
    "df_league_stats= pega_dados(url, sessao, search= 'teams', tree_top= True)"
   ]
  },
  {
   "cell_type": "code",
   "execution_count": 32,
   "metadata": {},
   "outputs": [
    {
     "data": {
      "text/html": [
       "<div>\n",
       "<style scoped>\n",
       "    .dataframe tbody tr th:only-of-type {\n",
       "        vertical-align: middle;\n",
       "    }\n",
       "\n",
       "    .dataframe tbody tr th {\n",
       "        vertical-align: top;\n",
       "    }\n",
       "\n",
       "    .dataframe thead th {\n",
       "        text-align: right;\n",
       "    }\n",
       "</style>\n",
       "<table border=\"1\" class=\"dataframe\">\n",
       "  <thead>\n",
       "    <tr style=\"text-align: right;\">\n",
       "      <th></th>\n",
       "      <th>teamID</th>\n",
       "      <th>round</th>\n",
       "      <th>points</th>\n",
       "      <th>wins</th>\n",
       "      <th>draws</th>\n",
       "      <th>losses</th>\n",
       "      <th>goalsScored</th>\n",
       "      <th>goalsLost</th>\n",
       "      <th>rankTotal</th>\n",
       "      <th>leagueID</th>\n",
       "    </tr>\n",
       "  </thead>\n",
       "  <tbody>\n",
       "    <tr>\n",
       "      <th>0</th>\n",
       "      <td>79085</td>\n",
       "      <td>10</td>\n",
       "      <td>28</td>\n",
       "      <td>9</td>\n",
       "      <td>1</td>\n",
       "      <td>0</td>\n",
       "      <td>52</td>\n",
       "      <td>1</td>\n",
       "      <td>28551052009011</td>\n",
       "      <td>2076</td>\n",
       "    </tr>\n",
       "    <tr>\n",
       "      <th>1</th>\n",
       "      <td>122540</td>\n",
       "      <td>10</td>\n",
       "      <td>25</td>\n",
       "      <td>8</td>\n",
       "      <td>1</td>\n",
       "      <td>1</td>\n",
       "      <td>42</td>\n",
       "      <td>2</td>\n",
       "      <td>25540042008010</td>\n",
       "      <td>2076</td>\n",
       "    </tr>\n",
       "    <tr>\n",
       "      <th>2</th>\n",
       "      <td>123911</td>\n",
       "      <td>10</td>\n",
       "      <td>23</td>\n",
       "      <td>7</td>\n",
       "      <td>2</td>\n",
       "      <td>1</td>\n",
       "      <td>23</td>\n",
       "      <td>4</td>\n",
       "      <td>23519023007007</td>\n",
       "      <td>2076</td>\n",
       "    </tr>\n",
       "    <tr>\n",
       "      <th>3</th>\n",
       "      <td>6298</td>\n",
       "      <td>10</td>\n",
       "      <td>21</td>\n",
       "      <td>7</td>\n",
       "      <td>0</td>\n",
       "      <td>3</td>\n",
       "      <td>36</td>\n",
       "      <td>5</td>\n",
       "      <td>21531036007012</td>\n",
       "      <td>2076</td>\n",
       "    </tr>\n",
       "    <tr>\n",
       "      <th>4</th>\n",
       "      <td>78473</td>\n",
       "      <td>10</td>\n",
       "      <td>18</td>\n",
       "      <td>6</td>\n",
       "      <td>0</td>\n",
       "      <td>4</td>\n",
       "      <td>24</td>\n",
       "      <td>17</td>\n",
       "      <td>18507024006004</td>\n",
       "      <td>2076</td>\n",
       "    </tr>\n",
       "    <tr>\n",
       "      <th>5</th>\n",
       "      <td>120765</td>\n",
       "      <td>10</td>\n",
       "      <td>16</td>\n",
       "      <td>5</td>\n",
       "      <td>1</td>\n",
       "      <td>4</td>\n",
       "      <td>13</td>\n",
       "      <td>11</td>\n",
       "      <td>16502013005008</td>\n",
       "      <td>2076</td>\n",
       "    </tr>\n",
       "    <tr>\n",
       "      <th>6</th>\n",
       "      <td>79853</td>\n",
       "      <td>10</td>\n",
       "      <td>15</td>\n",
       "      <td>5</td>\n",
       "      <td>0</td>\n",
       "      <td>5</td>\n",
       "      <td>34</td>\n",
       "      <td>18</td>\n",
       "      <td>15516034005009</td>\n",
       "      <td>2076</td>\n",
       "    </tr>\n",
       "    <tr>\n",
       "      <th>7</th>\n",
       "      <td>142636</td>\n",
       "      <td>10</td>\n",
       "      <td>10</td>\n",
       "      <td>3</td>\n",
       "      <td>1</td>\n",
       "      <td>6</td>\n",
       "      <td>8</td>\n",
       "      <td>24</td>\n",
       "      <td>10484008003006</td>\n",
       "      <td>2076</td>\n",
       "    </tr>\n",
       "    <tr>\n",
       "      <th>8</th>\n",
       "      <td>142663</td>\n",
       "      <td>10</td>\n",
       "      <td>7</td>\n",
       "      <td>2</td>\n",
       "      <td>1</td>\n",
       "      <td>7</td>\n",
       "      <td>8</td>\n",
       "      <td>37</td>\n",
       "      <td>7471008002003</td>\n",
       "      <td>2076</td>\n",
       "    </tr>\n",
       "    <tr>\n",
       "      <th>9</th>\n",
       "      <td>142690</td>\n",
       "      <td>10</td>\n",
       "      <td>6</td>\n",
       "      <td>2</td>\n",
       "      <td>0</td>\n",
       "      <td>8</td>\n",
       "      <td>5</td>\n",
       "      <td>47</td>\n",
       "      <td>6458005002001</td>\n",
       "      <td>2076</td>\n",
       "    </tr>\n",
       "    <tr>\n",
       "      <th>10</th>\n",
       "      <td>142717</td>\n",
       "      <td>10</td>\n",
       "      <td>4</td>\n",
       "      <td>1</td>\n",
       "      <td>1</td>\n",
       "      <td>8</td>\n",
       "      <td>5</td>\n",
       "      <td>34</td>\n",
       "      <td>4471005001002</td>\n",
       "      <td>2076</td>\n",
       "    </tr>\n",
       "    <tr>\n",
       "      <th>11</th>\n",
       "      <td>47955</td>\n",
       "      <td>10</td>\n",
       "      <td>3</td>\n",
       "      <td>1</td>\n",
       "      <td>0</td>\n",
       "      <td>9</td>\n",
       "      <td>6</td>\n",
       "      <td>56</td>\n",
       "      <td>3450006001005</td>\n",
       "      <td>2076</td>\n",
       "    </tr>\n",
       "  </tbody>\n",
       "</table>\n",
       "</div>"
      ],
      "text/plain": [
       "    teamID round points wins draws losses goalsScored goalsLost  \\\n",
       "0    79085    10     28    9     1      0          52         1   \n",
       "1   122540    10     25    8     1      1          42         2   \n",
       "2   123911    10     23    7     2      1          23         4   \n",
       "3     6298    10     21    7     0      3          36         5   \n",
       "4    78473    10     18    6     0      4          24        17   \n",
       "5   120765    10     16    5     1      4          13        11   \n",
       "6    79853    10     15    5     0      5          34        18   \n",
       "7   142636    10     10    3     1      6           8        24   \n",
       "8   142663    10      7    2     1      7           8        37   \n",
       "9   142690    10      6    2     0      8           5        47   \n",
       "10  142717    10      4    1     1      8           5        34   \n",
       "11   47955    10      3    1     0      9           6        56   \n",
       "\n",
       "         rankTotal  leagueID  \n",
       "0   28551052009011      2076  \n",
       "1   25540042008010      2076  \n",
       "2   23519023007007      2076  \n",
       "3   21531036007012      2076  \n",
       "4   18507024006004      2076  \n",
       "5   16502013005008      2076  \n",
       "6   15516034005009      2076  \n",
       "7   10484008003006      2076  \n",
       "8    7471008002003      2076  \n",
       "9    6458005002001      2076  \n",
       "10   4471005001002      2076  \n",
       "11   3450006001005      2076  "
      ]
     },
     "execution_count": 32,
     "metadata": {},
     "output_type": "execute_result"
    }
   ],
   "source": [
    "df_league_stats['leagueID']= league_id\n",
    "df_league_stats"
   ]
  },
  {
   "cell_type": "code",
   "execution_count": 33,
   "metadata": {},
   "outputs": [],
   "source": [
    "# Adicionando informações \n",
    "if len(df_league_stats) > 0:\n",
    "    \n",
    "    # Adiciona dados à tabela\n",
    "    df_league_stats.to_sql('leagueStats', con=db, if_exists='append', index= False)"
   ]
  },
  {
   "cell_type": "markdown",
   "metadata": {},
   "source": [
    "league_stats = pd.read_sql_query(\"SELECT * FROM leagueStats\", db)\n",
    "len(league_stats)"
   ]
  },
  {
   "cell_type": "markdown",
   "metadata": {},
   "source": [
    "### Liga informação geral"
   ]
  },
  {
   "cell_type": "code",
   "execution_count": 34,
   "metadata": {},
   "outputs": [],
   "source": [
    "#Pega informações das ligas já adicionadas para que não sejam inseridos valores duplicados na base\n",
    "leagues = pd.read_sql_query(\"SELECT * FROM league\", db)\n",
    "\n",
    "ids= leagues['leagueID'].unique()\n",
    "league_name= leagues['name'].unique()"
   ]
  },
  {
   "cell_type": "code",
   "execution_count": 35,
   "metadata": {},
   "outputs": [
    {
     "data": {
      "text/html": [
       "<div>\n",
       "<style scoped>\n",
       "    .dataframe tbody tr th:only-of-type {\n",
       "        vertical-align: middle;\n",
       "    }\n",
       "\n",
       "    .dataframe tbody tr th {\n",
       "        vertical-align: top;\n",
       "    }\n",
       "\n",
       "    .dataframe thead th {\n",
       "        text-align: right;\n",
       "    }\n",
       "</style>\n",
       "<table border=\"1\" class=\"dataframe\">\n",
       "  <thead>\n",
       "    <tr style=\"text-align: right;\">\n",
       "      <th></th>\n",
       "      <th>leagueID</th>\n",
       "      <th>name</th>\n",
       "      <th>countryID</th>\n",
       "      <th>division</th>\n",
       "      <th>season</th>\n",
       "      <th>type</th>\n",
       "      <th>isOfficial</th>\n",
       "      <th>isCup</th>\n",
       "    </tr>\n",
       "  </thead>\n",
       "  <tbody>\n",
       "  </tbody>\n",
       "</table>\n",
       "</div>"
      ],
      "text/plain": [
       "Empty DataFrame\n",
       "Columns: [leagueID, name, countryID, division, season, type, isOfficial, isCup]\n",
       "Index: []"
      ]
     },
     "execution_count": 35,
     "metadata": {},
     "output_type": "execute_result"
    }
   ],
   "source": [
    "#Pegando dados da liga\n",
    "df_league= pega_dados(url, sessao, search= 'info')\n",
    "\n",
    "#Retirando coluna que não será utilizada\n",
    "df_league.drop(columns= ['userID', 'round'], inplace= True)\n",
    "\n",
    "#Retirando valores duplicados (se as estatísticas já tiverem sido adicionadas na base)\n",
    "query= 'leagueID not in @ids and name not in @league_name'\n",
    "df_league= df_league.query(query)\n",
    "\n",
    "df_league"
   ]
  },
  {
   "cell_type": "code",
   "execution_count": 36,
   "metadata": {},
   "outputs": [],
   "source": [
    "# Adicionando informações se for uma liga ainda não adicionada\n",
    "if len(df_league) > 0:\n",
    "    \n",
    "    # Adiciona dados à tabela\n",
    "    df_league.to_sql('league', con=db, if_exists='append', index= False)"
   ]
  },
  {
   "cell_type": "code",
   "execution_count": 37,
   "metadata": {},
   "outputs": [
    {
     "data": {
      "text/plain": [
       "2"
      ]
     },
     "execution_count": 37,
     "metadata": {},
     "output_type": "execute_result"
    }
   ],
   "source": [
    "league = pd.read_sql_query(\"SELECT * FROM league\", db)\n",
    "len(league)"
   ]
  },
  {
   "cell_type": "code",
   "execution_count": 38,
   "metadata": {},
   "outputs": [],
   "source": [
    "# Salvando alterações\n",
    "db.commit()\n",
    "\n",
    "# Fechando conexão com a base de dados\n",
    "db.close()"
   ]
  },
  {
   "cell_type": "code",
   "execution_count": null,
   "metadata": {},
   "outputs": [],
   "source": []
  }
 ],
 "metadata": {
  "kernelspec": {
   "display_name": "Python 3",
   "language": "python",
   "name": "python3"
  },
  "language_info": {
   "codemirror_mode": {
    "name": "ipython",
    "version": 3
   },
   "file_extension": ".py",
   "mimetype": "text/x-python",
   "name": "python",
   "nbconvert_exporter": "python",
   "pygments_lexer": "ipython3",
   "version": "3.8.3"
  }
 },
 "nbformat": 4,
 "nbformat_minor": 4
}

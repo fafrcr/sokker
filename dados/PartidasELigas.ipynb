{
 "cells": [
  {
   "cell_type": "markdown",
   "metadata": {},
   "source": [
    "### *Podemos rodar às segundas-feiras já que as partidas da liga são jogadas aos domingos*"
   ]
  },
  {
   "cell_type": "code",
   "execution_count": 1,
   "metadata": {},
   "outputs": [],
   "source": [
    "import pandas as pd\n",
    "from functions import clube_id_e_sessao, pega_dados, conecta_ao_db"
   ]
  },
  {
   "cell_type": "code",
   "execution_count": 2,
   "metadata": {},
   "outputs": [
    {
     "name": "stdout",
     "output_type": "stream",
     "text": [
      "Login: fabin99\n",
      "Password: ········\n",
      "Clube ID: 79085\n"
     ]
    }
   ],
   "source": [
    "sessao, club_id= clube_id_e_sessao()"
   ]
  },
  {
   "cell_type": "markdown",
   "metadata": {},
   "source": [
    "### Informações gerais dos jogos"
   ]
  },
  {
   "cell_type": "code",
   "execution_count": 3,
   "metadata": {},
   "outputs": [],
   "source": [
    "# Conecta ao banco de dados\n",
    "db= conecta_ao_db('dados_sokker.db')\n",
    "curs= db.cursor()\n",
    "\n",
    "#Pega informações únicas das partidas já adicionadas para que não sejam inseridos valores duplicados na base\n",
    "matches = pd.read_sql_query(\"SELECT * FROM matches\", db)\n",
    "\n",
    "ids= matches['matchID'].unique()\n",
    "data_esperada= matches['dateExpected'].unique()\n",
    "data_iniciada= matches['dateStarted'].unique()"
   ]
  },
  {
   "cell_type": "code",
   "execution_count": 4,
   "metadata": {
    "scrolled": true
   },
   "outputs": [
    {
     "data": {
      "text/html": [
       "<div>\n",
       "<style scoped>\n",
       "    .dataframe tbody tr th:only-of-type {\n",
       "        vertical-align: middle;\n",
       "    }\n",
       "\n",
       "    .dataframe tbody tr th {\n",
       "        vertical-align: top;\n",
       "    }\n",
       "\n",
       "    .dataframe thead th {\n",
       "        text-align: right;\n",
       "    }\n",
       "</style>\n",
       "<table border=\"1\" class=\"dataframe\">\n",
       "  <thead>\n",
       "    <tr style=\"text-align: right;\">\n",
       "      <th></th>\n",
       "      <th>matchID</th>\n",
       "      <th>homeTeamID</th>\n",
       "      <th>awayTeamID</th>\n",
       "      <th>leagueID</th>\n",
       "      <th>round</th>\n",
       "      <th>season</th>\n",
       "      <th>week</th>\n",
       "      <th>day</th>\n",
       "      <th>dateExpected</th>\n",
       "      <th>dateStarted</th>\n",
       "      <th>homeTeamScore</th>\n",
       "      <th>awayTeamScore</th>\n",
       "      <th>supporters</th>\n",
       "      <th>weather</th>\n",
       "      <th>isFinished</th>\n",
       "    </tr>\n",
       "  </thead>\n",
       "  <tbody>\n",
       "    <tr>\n",
       "      <th>15</th>\n",
       "      <td>39995615</td>\n",
       "      <td>90095</td>\n",
       "      <td>79085</td>\n",
       "      <td>1345</td>\n",
       "      <td>19</td>\n",
       "      <td>62</td>\n",
       "      <td>1038</td>\n",
       "      <td>1</td>\n",
       "      <td>2023-05-28 21:58</td>\n",
       "      <td>2023-05-28 21:58</td>\n",
       "      <td>4</td>\n",
       "      <td>0</td>\n",
       "      <td>38439</td>\n",
       "      <td>3</td>\n",
       "      <td>1</td>\n",
       "    </tr>\n",
       "    <tr>\n",
       "      <th>16</th>\n",
       "      <td>39995609</td>\n",
       "      <td>89208</td>\n",
       "      <td>79085</td>\n",
       "      <td>1345</td>\n",
       "      <td>20</td>\n",
       "      <td>62</td>\n",
       "      <td>1038</td>\n",
       "      <td>4</td>\n",
       "      <td>2023-05-31 21:58</td>\n",
       "      <td>2023-05-31 21:58</td>\n",
       "      <td>0</td>\n",
       "      <td>1</td>\n",
       "      <td>7984</td>\n",
       "      <td>3</td>\n",
       "      <td>1</td>\n",
       "    </tr>\n",
       "  </tbody>\n",
       "</table>\n",
       "</div>"
      ],
      "text/plain": [
       "     matchID homeTeamID awayTeamID leagueID round season  week day  \\\n",
       "15  39995615      90095      79085     1345    19     62  1038   1   \n",
       "16  39995609      89208      79085     1345    20     62  1038   4   \n",
       "\n",
       "        dateExpected       dateStarted homeTeamScore awayTeamScore supporters  \\\n",
       "15  2023-05-28 21:58  2023-05-28 21:58             4             0      38439   \n",
       "16  2023-05-31 21:58  2023-05-31 21:58             0             1       7984   \n",
       "\n",
       "   weather isFinished  \n",
       "15       3          1  \n",
       "16       3          1  "
      ]
     },
     "execution_count": 4,
     "metadata": {},
     "output_type": "execute_result"
    }
   ],
   "source": [
    "# Id do clube a serem pegas as informações\n",
    "id_clube= club_id\n",
    "\n",
    "# Pegando informações das partidas retirando aquelas que já foram pegas\n",
    "url= f'https://sokker.org/xml/matches-team-{club_id}.xml'\n",
    "df_matches= pega_dados(url, sessao, search= 'match')\n",
    "\n",
    "#Retirando valores nulos (partidas ainda não jogadas) e duplicados (partidas já adicionadas na base)\n",
    "df_matches.dropna(inplace= True)\n",
    "\n",
    "query= 'matchID not in @ids and dateExpected not in @data_esperada and dateStarted not in @data_iniciada'\n",
    "\n",
    "# Retirando colunas que não salvaremos as informações\n",
    "df_matches.drop(columns= ['homeTeamName', 'awayTeamName'], \n",
    "                inplace= True)\n",
    "\n",
    "#df_matches= pd.concat([matches, df_matches])\n",
    "\n",
    "df_matches= df_matches.query(query)\n",
    "df_matches"
   ]
  },
  {
   "cell_type": "code",
   "execution_count": 5,
   "metadata": {},
   "outputs": [],
   "source": [
    "if len(df_matches) > 0:\n",
    "    \n",
    "    # Adiciona dados à tabela\n",
    "    df_matches.to_sql('matches', con=db, if_exists='append', index= False)"
   ]
  },
  {
   "cell_type": "code",
   "execution_count": 6,
   "metadata": {},
   "outputs": [
    {
     "data": {
      "text/plain": [
       "2"
      ]
     },
     "execution_count": 6,
     "metadata": {},
     "output_type": "execute_result"
    }
   ],
   "source": [
    "#df_matches = pd.read_sql_query(\"SELECT * FROM matches\", db)\n",
    "len(df_matches)"
   ]
  },
  {
   "cell_type": "markdown",
   "metadata": {},
   "source": [
    "### Estatísticas dos jogos"
   ]
  },
  {
   "cell_type": "code",
   "execution_count": 7,
   "metadata": {},
   "outputs": [],
   "source": [
    "#Pega informações únicas das estatísticas já adicionadas para que não sejam inseridos valores duplicados na base\n",
    "stats = pd.read_sql_query(\"SELECT * FROM matchStats\", db)\n",
    "\n",
    "ids= stats['matchID'].unique()\n",
    "team= stats['teamID'].unique()\n",
    "terco_defensivo= stats['timeOnHalf'].unique()\n",
    "posse_de_bola= stats['timePossession'].unique()"
   ]
  },
  {
   "cell_type": "code",
   "execution_count": 8,
   "metadata": {},
   "outputs": [
    {
     "data": {
      "text/html": [
       "<div>\n",
       "<style scoped>\n",
       "    .dataframe tbody tr th:only-of-type {\n",
       "        vertical-align: middle;\n",
       "    }\n",
       "\n",
       "    .dataframe tbody tr th {\n",
       "        vertical-align: top;\n",
       "    }\n",
       "\n",
       "    .dataframe thead th {\n",
       "        text-align: right;\n",
       "    }\n",
       "</style>\n",
       "<table border=\"1\" class=\"dataframe\">\n",
       "  <thead>\n",
       "    <tr style=\"text-align: right;\">\n",
       "      <th></th>\n",
       "      <th>teamID</th>\n",
       "      <th>timeOnHalf</th>\n",
       "      <th>timePossession</th>\n",
       "      <th>offsides</th>\n",
       "      <th>shoots</th>\n",
       "      <th>fouls</th>\n",
       "      <th>yellowCards</th>\n",
       "      <th>redCards</th>\n",
       "      <th>tacticName</th>\n",
       "      <th>ratingScoring</th>\n",
       "      <th>ratingPassing</th>\n",
       "      <th>ratingDefending</th>\n",
       "      <th>matchID</th>\n",
       "    </tr>\n",
       "  </thead>\n",
       "  <tbody>\n",
       "    <tr>\n",
       "      <th>0</th>\n",
       "      <td>90095</td>\n",
       "      <td>28278</td>\n",
       "      <td>35410</td>\n",
       "      <td>1</td>\n",
       "      <td>6</td>\n",
       "      <td>1</td>\n",
       "      <td>0</td>\n",
       "      <td>0</td>\n",
       "      <td>X03 - 451</td>\n",
       "      <td>9</td>\n",
       "      <td>9</td>\n",
       "      <td>9</td>\n",
       "      <td>39995615</td>\n",
       "    </tr>\n",
       "    <tr>\n",
       "      <th>1</th>\n",
       "      <td>79085</td>\n",
       "      <td>41673</td>\n",
       "      <td>34541</td>\n",
       "      <td>0</td>\n",
       "      <td>2</td>\n",
       "      <td>0</td>\n",
       "      <td>0</td>\n",
       "      <td>0</td>\n",
       "      <td>5-4-1b</td>\n",
       "      <td>7</td>\n",
       "      <td>7</td>\n",
       "      <td>9</td>\n",
       "      <td>39995615</td>\n",
       "    </tr>\n",
       "    <tr>\n",
       "      <th>0</th>\n",
       "      <td>89208</td>\n",
       "      <td>35323</td>\n",
       "      <td>33077</td>\n",
       "      <td>0</td>\n",
       "      <td>7</td>\n",
       "      <td>2</td>\n",
       "      <td>0</td>\n",
       "      <td>0</td>\n",
       "      <td>def ata</td>\n",
       "      <td>10</td>\n",
       "      <td>9</td>\n",
       "      <td>9</td>\n",
       "      <td>39995609</td>\n",
       "    </tr>\n",
       "    <tr>\n",
       "      <th>1</th>\n",
       "      <td>79085</td>\n",
       "      <td>34881</td>\n",
       "      <td>37127</td>\n",
       "      <td>2</td>\n",
       "      <td>4</td>\n",
       "      <td>2</td>\n",
       "      <td>2</td>\n",
       "      <td>0</td>\n",
       "      <td>4-3-3a</td>\n",
       "      <td>7</td>\n",
       "      <td>8</td>\n",
       "      <td>9</td>\n",
       "      <td>39995609</td>\n",
       "    </tr>\n",
       "  </tbody>\n",
       "</table>\n",
       "</div>"
      ],
      "text/plain": [
       "  teamID timeOnHalf timePossession offsides shoots fouls yellowCards redCards  \\\n",
       "0  90095      28278          35410        1      6     1           0        0   \n",
       "1  79085      41673          34541        0      2     0           0        0   \n",
       "0  89208      35323          33077        0      7     2           0        0   \n",
       "1  79085      34881          37127        2      4     2           2        0   \n",
       "\n",
       "  tacticName ratingScoring ratingPassing ratingDefending   matchID  \n",
       "0  X03 - 451             9             9               9  39995615  \n",
       "1     5-4-1b             7             7               9  39995615  \n",
       "0    def ata            10             9               9  39995609  \n",
       "1     4-3-3a             7             8               9  39995609  "
      ]
     },
     "execution_count": 8,
     "metadata": {},
     "output_type": "execute_result"
    }
   ],
   "source": [
    "#lista que guardará as estatísticas de cada partida\n",
    "list_stats= list()\n",
    "\n",
    "# Pegando estatísticas\n",
    "\n",
    "for ID in df_matches['matchID'].unique():\n",
    "    \n",
    "    url= f'https://sokker.org/xml/match-{ID}.xml'\n",
    "    df= pega_dados(url, sessao, search= 'teamStats')\n",
    "    df['matchID']= ID\n",
    "    list_stats.append(df)\n",
    "    \n",
    "\n",
    "\n",
    "df_stats= pd.concat([stats for stats in list_stats])\n",
    "\n",
    "# Retirando valores nulos (partidas ainda não jogadas) e duplicados (partidas já adicionadas na base)\n",
    "\n",
    "df_stats.dropna(inplace= True)\n",
    "\n",
    "query= 'matchID not in @ids and teamID not in @team and timeOnHalf not in @terco_defensivo and timePossession not in @posse_de_bola'\n",
    "\n",
    "df_stats= df_stats.query(query)\n",
    "\n",
    "df_stats"
   ]
  },
  {
   "cell_type": "code",
   "execution_count": 9,
   "metadata": {},
   "outputs": [],
   "source": [
    "# Adicionando informações se houver alguma nova\n",
    "if len(df_stats) > 0:\n",
    "    \n",
    "    # Adiciona dados à tabela\n",
    "    df_stats.to_sql('matchStats', con=db, if_exists='append', index= False)"
   ]
  },
  {
   "cell_type": "code",
   "execution_count": 10,
   "metadata": {},
   "outputs": [
    {
     "data": {
      "text/plain": [
       "814"
      ]
     },
     "execution_count": 10,
     "metadata": {},
     "output_type": "execute_result"
    }
   ],
   "source": [
    "# Conferindo\n",
    "stats = pd.read_sql_query(\"SELECT * FROM matchStats\", db)\n",
    "len(stats)"
   ]
  },
  {
   "cell_type": "markdown",
   "metadata": {},
   "source": [
    "### Estatísticas da Liga"
   ]
  },
  {
   "cell_type": "code",
   "execution_count": 11,
   "metadata": {},
   "outputs": [],
   "source": [
    "#Pega informações ligas já adicionadas para que não sejam inseridos valores duplicados na base\n",
    "league_stats = pd.read_sql_query(\"SELECT * FROM leagueStats\", db)\n",
    "\n",
    "ids= league_stats['leagueID'].unique()\n",
    "team= league_stats['teamID'].unique()\n",
    "rodada=  league_stats['round'].unique()"
   ]
  },
  {
   "cell_type": "code",
   "execution_count": 12,
   "metadata": {},
   "outputs": [],
   "source": [
    "#Pegar o id da liga desejada entrando na liga na página do sokker\n",
    "league_id= 1345\n",
    "\n",
    "url= f'https://sokker.org/xml/league-{league_id}.xml'\n",
    "df_league_stats= pega_dados(url, sessao, search= 'teams', tree_top= True)"
   ]
  },
  {
   "cell_type": "code",
   "execution_count": 13,
   "metadata": {},
   "outputs": [
    {
     "data": {
      "text/html": [
       "<div>\n",
       "<style scoped>\n",
       "    .dataframe tbody tr th:only-of-type {\n",
       "        vertical-align: middle;\n",
       "    }\n",
       "\n",
       "    .dataframe tbody tr th {\n",
       "        vertical-align: top;\n",
       "    }\n",
       "\n",
       "    .dataframe thead th {\n",
       "        text-align: right;\n",
       "    }\n",
       "</style>\n",
       "<table border=\"1\" class=\"dataframe\">\n",
       "  <thead>\n",
       "    <tr style=\"text-align: right;\">\n",
       "      <th></th>\n",
       "      <th>teamID</th>\n",
       "      <th>round</th>\n",
       "      <th>points</th>\n",
       "      <th>wins</th>\n",
       "      <th>draws</th>\n",
       "      <th>losses</th>\n",
       "      <th>goalsScored</th>\n",
       "      <th>goalsLost</th>\n",
       "      <th>rankTotal</th>\n",
       "      <th>leagueID</th>\n",
       "    </tr>\n",
       "  </thead>\n",
       "  <tbody>\n",
       "    <tr>\n",
       "      <th>0</th>\n",
       "      <td>79722</td>\n",
       "      <td>20</td>\n",
       "      <td>60</td>\n",
       "      <td>20</td>\n",
       "      <td>0</td>\n",
       "      <td>0</td>\n",
       "      <td>88</td>\n",
       "      <td>8</td>\n",
       "      <td>60580088020011</td>\n",
       "      <td>1345</td>\n",
       "    </tr>\n",
       "    <tr>\n",
       "      <th>1</th>\n",
       "      <td>90095</td>\n",
       "      <td>20</td>\n",
       "      <td>48</td>\n",
       "      <td>15</td>\n",
       "      <td>3</td>\n",
       "      <td>2</td>\n",
       "      <td>69</td>\n",
       "      <td>8</td>\n",
       "      <td>48561069015012</td>\n",
       "      <td>1345</td>\n",
       "    </tr>\n",
       "    <tr>\n",
       "      <th>2</th>\n",
       "      <td>121466</td>\n",
       "      <td>20</td>\n",
       "      <td>46</td>\n",
       "      <td>15</td>\n",
       "      <td>1</td>\n",
       "      <td>4</td>\n",
       "      <td>72</td>\n",
       "      <td>20</td>\n",
       "      <td>46552072015004</td>\n",
       "      <td>1345</td>\n",
       "    </tr>\n",
       "    <tr>\n",
       "      <th>3</th>\n",
       "      <td>121094</td>\n",
       "      <td>20</td>\n",
       "      <td>38</td>\n",
       "      <td>12</td>\n",
       "      <td>2</td>\n",
       "      <td>6</td>\n",
       "      <td>53</td>\n",
       "      <td>26</td>\n",
       "      <td>38527053012010</td>\n",
       "      <td>1345</td>\n",
       "    </tr>\n",
       "    <tr>\n",
       "      <th>4</th>\n",
       "      <td>80120</td>\n",
       "      <td>20</td>\n",
       "      <td>30</td>\n",
       "      <td>9</td>\n",
       "      <td>3</td>\n",
       "      <td>8</td>\n",
       "      <td>32</td>\n",
       "      <td>22</td>\n",
       "      <td>30510032009007</td>\n",
       "      <td>1345</td>\n",
       "    </tr>\n",
       "    <tr>\n",
       "      <th>5</th>\n",
       "      <td>89208</td>\n",
       "      <td>20</td>\n",
       "      <td>27</td>\n",
       "      <td>8</td>\n",
       "      <td>3</td>\n",
       "      <td>9</td>\n",
       "      <td>25</td>\n",
       "      <td>35</td>\n",
       "      <td>27490025008005</td>\n",
       "      <td>1345</td>\n",
       "    </tr>\n",
       "    <tr>\n",
       "      <th>6</th>\n",
       "      <td>79085</td>\n",
       "      <td>20</td>\n",
       "      <td>23</td>\n",
       "      <td>7</td>\n",
       "      <td>2</td>\n",
       "      <td>11</td>\n",
       "      <td>28</td>\n",
       "      <td>35</td>\n",
       "      <td>23493028007008</td>\n",
       "      <td>1345</td>\n",
       "    </tr>\n",
       "    <tr>\n",
       "      <th>7</th>\n",
       "      <td>48541</td>\n",
       "      <td>20</td>\n",
       "      <td>20</td>\n",
       "      <td>5</td>\n",
       "      <td>5</td>\n",
       "      <td>10</td>\n",
       "      <td>30</td>\n",
       "      <td>49</td>\n",
       "      <td>20481030005009</td>\n",
       "      <td>1345</td>\n",
       "    </tr>\n",
       "    <tr>\n",
       "      <th>8</th>\n",
       "      <td>23755</td>\n",
       "      <td>20</td>\n",
       "      <td>19</td>\n",
       "      <td>5</td>\n",
       "      <td>4</td>\n",
       "      <td>11</td>\n",
       "      <td>17</td>\n",
       "      <td>56</td>\n",
       "      <td>19461017005006</td>\n",
       "      <td>1345</td>\n",
       "    </tr>\n",
       "    <tr>\n",
       "      <th>9</th>\n",
       "      <td>80257</td>\n",
       "      <td>20</td>\n",
       "      <td>14</td>\n",
       "      <td>3</td>\n",
       "      <td>5</td>\n",
       "      <td>12</td>\n",
       "      <td>21</td>\n",
       "      <td>65</td>\n",
       "      <td>14456021003001</td>\n",
       "      <td>1345</td>\n",
       "    </tr>\n",
       "    <tr>\n",
       "      <th>10</th>\n",
       "      <td>31236</td>\n",
       "      <td>20</td>\n",
       "      <td>12</td>\n",
       "      <td>3</td>\n",
       "      <td>3</td>\n",
       "      <td>14</td>\n",
       "      <td>19</td>\n",
       "      <td>54</td>\n",
       "      <td>12465019003002</td>\n",
       "      <td>1345</td>\n",
       "    </tr>\n",
       "    <tr>\n",
       "      <th>11</th>\n",
       "      <td>78652</td>\n",
       "      <td>20</td>\n",
       "      <td>7</td>\n",
       "      <td>2</td>\n",
       "      <td>1</td>\n",
       "      <td>17</td>\n",
       "      <td>7</td>\n",
       "      <td>83</td>\n",
       "      <td>7424007002003</td>\n",
       "      <td>1345</td>\n",
       "    </tr>\n",
       "  </tbody>\n",
       "</table>\n",
       "</div>"
      ],
      "text/plain": [
       "    teamID round points wins draws losses goalsScored goalsLost  \\\n",
       "0    79722    20     60   20     0      0          88         8   \n",
       "1    90095    20     48   15     3      2          69         8   \n",
       "2   121466    20     46   15     1      4          72        20   \n",
       "3   121094    20     38   12     2      6          53        26   \n",
       "4    80120    20     30    9     3      8          32        22   \n",
       "5    89208    20     27    8     3      9          25        35   \n",
       "6    79085    20     23    7     2     11          28        35   \n",
       "7    48541    20     20    5     5     10          30        49   \n",
       "8    23755    20     19    5     4     11          17        56   \n",
       "9    80257    20     14    3     5     12          21        65   \n",
       "10   31236    20     12    3     3     14          19        54   \n",
       "11   78652    20      7    2     1     17           7        83   \n",
       "\n",
       "         rankTotal  leagueID  \n",
       "0   60580088020011      1345  \n",
       "1   48561069015012      1345  \n",
       "2   46552072015004      1345  \n",
       "3   38527053012010      1345  \n",
       "4   30510032009007      1345  \n",
       "5   27490025008005      1345  \n",
       "6   23493028007008      1345  \n",
       "7   20481030005009      1345  \n",
       "8   19461017005006      1345  \n",
       "9   14456021003001      1345  \n",
       "10  12465019003002      1345  \n",
       "11   7424007002003      1345  "
      ]
     },
     "execution_count": 13,
     "metadata": {},
     "output_type": "execute_result"
    }
   ],
   "source": [
    "df_league_stats['leagueID']= league_id\n",
    "df_league_stats"
   ]
  },
  {
   "cell_type": "code",
   "execution_count": 14,
   "metadata": {},
   "outputs": [],
   "source": [
    "# Adicionando informações \n",
    "if len(df_league_stats) > 0:\n",
    "    \n",
    "    # Adiciona dados à tabela\n",
    "    df_league_stats.to_sql('leagueStats', con=db, if_exists='append', index= False)"
   ]
  },
  {
   "cell_type": "markdown",
   "metadata": {},
   "source": [
    "league_stats = pd.read_sql_query(\"SELECT * FROM leagueStats\", db)\n",
    "len(league_stats)"
   ]
  },
  {
   "cell_type": "markdown",
   "metadata": {},
   "source": [
    "### Liga informação geral"
   ]
  },
  {
   "cell_type": "code",
   "execution_count": 15,
   "metadata": {},
   "outputs": [],
   "source": [
    "#Pega informações das ligas já adicionadas para que não sejam inseridos valores duplicados na base\n",
    "leagues = pd.read_sql_query(\"SELECT * FROM league\", db)\n",
    "\n",
    "ids= leagues['leagueID'].unique()\n",
    "league_name= leagues['name'].unique()"
   ]
  },
  {
   "cell_type": "code",
   "execution_count": 16,
   "metadata": {},
   "outputs": [
    {
     "data": {
      "text/html": [
       "<div>\n",
       "<style scoped>\n",
       "    .dataframe tbody tr th:only-of-type {\n",
       "        vertical-align: middle;\n",
       "    }\n",
       "\n",
       "    .dataframe tbody tr th {\n",
       "        vertical-align: top;\n",
       "    }\n",
       "\n",
       "    .dataframe thead th {\n",
       "        text-align: right;\n",
       "    }\n",
       "</style>\n",
       "<table border=\"1\" class=\"dataframe\">\n",
       "  <thead>\n",
       "    <tr style=\"text-align: right;\">\n",
       "      <th></th>\n",
       "      <th>leagueID</th>\n",
       "      <th>name</th>\n",
       "      <th>countryID</th>\n",
       "      <th>division</th>\n",
       "      <th>season</th>\n",
       "      <th>type</th>\n",
       "      <th>isOfficial</th>\n",
       "      <th>isCup</th>\n",
       "    </tr>\n",
       "  </thead>\n",
       "  <tbody>\n",
       "  </tbody>\n",
       "</table>\n",
       "</div>"
      ],
      "text/plain": [
       "Empty DataFrame\n",
       "Columns: [leagueID, name, countryID, division, season, type, isOfficial, isCup]\n",
       "Index: []"
      ]
     },
     "execution_count": 16,
     "metadata": {},
     "output_type": "execute_result"
    }
   ],
   "source": [
    "#Pegando dados da liga\n",
    "df_league= pega_dados(url, sessao, search= 'info')\n",
    "\n",
    "#Retirando coluna que não será utilizada\n",
    "df_league.drop(columns= ['userID', 'round'], inplace= True)\n",
    "\n",
    "#Retirando valores duplicados (se as estatísticas já tiverem sido adicionadas na base)\n",
    "query= 'leagueID not in @ids and name not in @league_name'\n",
    "df_league= df_league.query(query)\n",
    "\n",
    "df_league"
   ]
  },
  {
   "cell_type": "code",
   "execution_count": 17,
   "metadata": {},
   "outputs": [],
   "source": [
    "# Adicionando informações se for uma liga ainda não adicionada\n",
    "if len(df_league) > 0:\n",
    "    \n",
    "    # Adiciona dados à tabela\n",
    "    df_league.to_sql('league', con=db, if_exists='append', index= False)"
   ]
  },
  {
   "cell_type": "code",
   "execution_count": 18,
   "metadata": {},
   "outputs": [
    {
     "data": {
      "text/plain": [
       "3"
      ]
     },
     "execution_count": 18,
     "metadata": {},
     "output_type": "execute_result"
    }
   ],
   "source": [
    "league = pd.read_sql_query(\"SELECT * FROM league\", db)\n",
    "len(league)"
   ]
  },
  {
   "cell_type": "code",
   "execution_count": 19,
   "metadata": {},
   "outputs": [],
   "source": [
    "# Salvando alterações\n",
    "db.commit()\n",
    "\n",
    "# Fechando conexão com a base de dados\n",
    "db.close()"
   ]
  },
  {
   "cell_type": "code",
   "execution_count": null,
   "metadata": {},
   "outputs": [],
   "source": []
  }
 ],
 "metadata": {
  "kernelspec": {
   "display_name": "Python 3 (ipykernel)",
   "language": "python",
   "name": "python3"
  },
  "language_info": {
   "codemirror_mode": {
    "name": "ipython",
    "version": 3
   },
   "file_extension": ".py",
   "mimetype": "text/x-python",
   "name": "python",
   "nbconvert_exporter": "python",
   "pygments_lexer": "ipython3",
   "version": "3.9.13"
  }
 },
 "nbformat": 4,
 "nbformat_minor": 4
}
